{
 "cells": [
  {
   "cell_type": "code",
   "execution_count": 1,
   "id": "07a475d7",
   "metadata": {},
   "outputs": [
    {
     "data": {
      "text/plain": [
       "True"
      ]
     },
     "execution_count": 1,
     "metadata": {},
     "output_type": "execute_result"
    }
   ],
   "source": [
    "# System environment\n",
    "from dotenv import load_dotenv\n",
    "import os\n",
    "\n",
    "# Neo4J\n",
    "from neo4j import GraphDatabase\n",
    "\n",
    "load_dotenv()"
   ]
  },
  {
   "cell_type": "markdown",
   "id": "5f271572",
   "metadata": {},
   "source": [
    "Parameter"
   ]
  },
  {
   "cell_type": "code",
   "execution_count": 2,
   "id": "3434b522",
   "metadata": {},
   "outputs": [],
   "source": [
    "neo4j_uri = os.getenv(\"NEO4J_URI\")\n",
    "neo4j_username = os.getenv(\"NEO4J_USERNAME\")\n",
    "neo4j_password = os.getenv(\"NEO4J_PASSWORD\")\n",
    "neo4j_auth = (os.getenv(\"NEO4J_USERNAME\"), os.getenv(\"NEO4J_PASSWORD\"))"
   ]
  },
  {
   "cell_type": "code",
   "execution_count": 3,
   "id": "e7d81a2e",
   "metadata": {},
   "outputs": [],
   "source": [
    "# URI examples: \"neo4j://localhost\", \"neo4j+s://xxx.databases.neo4j.io\"\n",
    "URI = os.getenv(\"NEO4J_URI\")\n",
    "AUTH = neo4j_auth\n",
    "\n",
    "with GraphDatabase.driver(URI, auth=AUTH) as driver:\n",
    "    driver.verify_connectivity()"
   ]
  },
  {
   "cell_type": "markdown",
   "id": "67486b5f",
   "metadata": {},
   "source": [
    "Create external graph"
   ]
  },
  {
   "cell_type": "code",
   "execution_count": 5,
   "id": "65665aed",
   "metadata": {},
   "outputs": [
    {
     "name": "stderr",
     "output_type": "stream",
     "text": [
      "/var/folders/b6/h7hpf0z56490jrxnbg4c6wb00000gn/T/ipykernel_46162/2944881978.py:1: DeprecationWarning: Using a driver after it has been closed is deprecated. Future versions of the driver will raise an error.\n",
      "  summary = driver.execute_query(\n"
     ]
    },
    {
     "name": "stdout",
     "output_type": "stream",
     "text": [
      "Created 2 nodes in 40 ms.\n"
     ]
    }
   ],
   "source": [
    "summary = driver.execute_query(\n",
    "    \"\"\"\n",
    "    CREATE (a:Person {name: $name})\n",
    "    CREATE (b:Person {name: $friendName})\n",
    "    CREATE (a)-[:KNOWS]->(b)\n",
    "    \"\"\",\n",
    "    name=\"Alice\",\n",
    "    friendName=\"David\",\n",
    "    database_=\"neo4j\",\n",
    ").summary\n",
    "print(\n",
    "    \"Created {nodes_created} nodes in {time} ms.\".format(\n",
    "        nodes_created=summary.counters.nodes_created,\n",
    "        time=summary.result_available_after,\n",
    "    )\n",
    ")"
   ]
  },
  {
   "cell_type": "markdown",
   "id": "3689a24e",
   "metadata": {},
   "source": [
    "Query"
   ]
  },
  {
   "cell_type": "code",
   "execution_count": 6,
   "id": "c26507b9",
   "metadata": {},
   "outputs": [
    {
     "name": "stderr",
     "output_type": "stream",
     "text": [
      "/var/folders/b6/h7hpf0z56490jrxnbg4c6wb00000gn/T/ipykernel_46162/4116503133.py:1: DeprecationWarning: Using a driver after it has been closed is deprecated. Future versions of the driver will raise an error.\n",
      "  records, summary, keys = driver.execute_query(\n"
     ]
    },
    {
     "name": "stdout",
     "output_type": "stream",
     "text": [
      "{'name': 'Alice'}\n",
      "The query `\n",
      "    MATCH (p:Person)-[:KNOWS]->(:Person)\n",
      "    RETURN p.name AS name\n",
      "    ` returned 1 records in 30 ms.\n"
     ]
    }
   ],
   "source": [
    "records, summary, keys = driver.execute_query(\n",
    "    \"\"\"\n",
    "    MATCH (p:Person)-[:KNOWS]->(:Person)\n",
    "    RETURN p.name AS name\n",
    "    \"\"\",\n",
    "    database_=\"neo4j\",\n",
    ")\n",
    "\n",
    "# Loop through results and do something with them\n",
    "for record in records:\n",
    "    print(record.data())  # obtain record as dict\n",
    "\n",
    "# Summary information\n",
    "print(\n",
    "    \"The query `{query}` returned {records_count} records in {time} ms.\".format(\n",
    "        query=summary.query,\n",
    "        records_count=len(records),\n",
    "        time=summary.result_available_after,\n",
    "    )\n",
    ")"
   ]
  },
  {
   "cell_type": "markdown",
   "id": "0446054c",
   "metadata": {},
   "source": [
    "Close connection"
   ]
  },
  {
   "cell_type": "code",
   "execution_count": 7,
   "id": "5efa822d",
   "metadata": {},
   "outputs": [],
   "source": [
    "driver = GraphDatabase.driver(URI, auth=AUTH)\n",
    "session = driver.session(database=\"neo4j\")\n",
    "\n",
    "# session/driver usage\n",
    "\n",
    "session.close()\n",
    "driver.close()"
   ]
  },
  {
   "cell_type": "code",
   "execution_count": null,
   "id": "37490d37",
   "metadata": {},
   "outputs": [],
   "source": []
  }
 ],
 "metadata": {
  "kernelspec": {
   "display_name": "dataengineering",
   "language": "python",
   "name": "python3"
  },
  "language_info": {
   "codemirror_mode": {
    "name": "ipython",
    "version": 3
   },
   "file_extension": ".py",
   "mimetype": "text/x-python",
   "name": "python",
   "nbconvert_exporter": "python",
   "pygments_lexer": "ipython3",
   "version": "3.11.13"
  }
 },
 "nbformat": 4,
 "nbformat_minor": 5
}

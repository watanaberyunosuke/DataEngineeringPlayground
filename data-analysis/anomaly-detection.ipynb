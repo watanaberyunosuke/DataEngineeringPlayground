{
 "cells": [
  {
   "cell_type": "markdown",
   "source": [
    "# Finding Anomalies in Data"
   ],
   "metadata": {
    "collapsed": false
   }
  },
  {
   "cell_type": "markdown",
   "source": [
    "Generate random data and import required libraries"
   ],
   "metadata": {
    "collapsed": false
   }
  },
  {
   "cell_type": "code",
   "execution_count": 30,
   "metadata": {
    "collapsed": true
   },
   "outputs": [],
   "source": [
    "import numpy as np\n",
    "import matplotlib.pyplot as plt\n",
    "import pandas as pd\n",
    "import researchpy as rp\n",
    "seed = np.random.seed(1)"
   ]
  },
  {
   "cell_type": "code",
   "execution_count": 31,
   "outputs": [
    {
     "name": "stdout",
     "output_type": "stream",
     "text": [
      "       N     Mean     Median Variance      SD      SE  95% Conf. Interval\n",
      "0  50000  29.9866  30.031641   33.465  5.7849  0.0259  [29.9359, 30.0373]\n"
     ]
    }
   ],
   "source": [
    "# Multiply and add by random numbers\n",
    "np.random.seed(seed)\n",
    "data = np.random.rand(50000) * 20 + 20\n",
    "print(rp.summarize(data))"
   ],
   "metadata": {
    "collapsed": false
   }
  },
  {
   "cell_type": "markdown",
   "source": [
    "Detecting Anomalies in Data"
   ],
   "metadata": {
    "collapsed": false
   }
  },
  {
   "cell_type": "code",
   "execution_count": 32,
   "outputs": [
    {
     "name": "stdout",
     "output_type": "stream",
     "text": [
      "Lower bound: 12.6321\n"
     ]
    },
    {
     "data": {
      "text/plain": "[]"
     },
     "execution_count": 32,
     "metadata": {},
     "output_type": "execute_result"
    }
   ],
   "source": [
    "def find_anomalies(data):\n",
    "    anomalies = []\n",
    "\n",
    "    # Upper and lower bounds\n",
    "    random_data_std  = np.std(data)\n",
    "    random_data_mean = np.mean(data)\n",
    "    anomaly_cut_off = random_data_std * 3\n",
    "\n",
    "    lower_bound = random_data_mean- anomaly_cut_off\n",
    "    upper_bound = random_data_mean + anomaly_cut_off\n",
    "    print(f\"Lower bound: {round(lower_bound, 4)}\")\n",
    "\n",
    "    # Generate outliner\n",
    "    for outlier in data:\n",
    "        if outlier > upper_bound or outlier < lower_bound:\n",
    "            anomalies.append(outlier)\n",
    "    return anomalies\n",
    "\n",
    "find_anomalies(data)\n"
   ],
   "metadata": {
    "collapsed": false
   }
  },
  {
   "cell_type": "markdown",
   "source": [
    "## Data visualization\n",
    "Plot the box-and-whisker plot to identify the skewness and kurtosis of the data"
   ],
   "metadata": {
    "collapsed": false
   }
  },
  {
   "cell_type": "code",
   "execution_count": 33,
   "outputs": [
    {
     "data": {
      "text/plain": "<Figure size 640x480 with 1 Axes>",
      "image/png": "[encoded data removed]"
     },
     "metadata": {},
     "output_type": "display_data"
    }
   ],
   "source": [
    "import seaborn as sns\n",
    "sns.boxplot(data=data, orient=\"h\")\n",
    "plt.tight_layout()"
   ],
   "metadata": {
    "collapsed": false
   }
  },
  {
   "cell_type": "markdown",
   "source": [
    "## Clustering\n",
    "DBScan Clustering Using DBScan Clustering Algorithm.\n",
    "[DB Scan Clustering Algorithm](https://scikit-learn.org/stable/modules/generated/sklearnstackoverflow.com/questions/34394641/dbscan-clustering-what-happens-when-border-point-of-one-cluster-is-considered)"
   ],
   "metadata": {
    "collapsed": false
   }
  },
  {
   "cell_type": "code",
   "execution_count": 34,
   "outputs": [
    {
     "name": "stdout",
     "output_type": "stream",
     "text": [
      "Number of Clusters:  118\n"
     ]
    }
   ],
   "source": [
    "from sklearn.cluster import DBSCAN\n",
    "random_data = data\n",
    "\n",
    "outlier_detection = DBSCAN(min_samples=2, eps=3)\n",
    "clusters = outlier_detection.fit_predict(random_data)\n",
    "no_of_clusters = list(clusters).count(-1)\n",
    "print(\"Number of Clusters: \", no_of_clusters)"
   ],
   "metadata": {
    "collapsed": false
   }
  },
  {
   "cell_type": "markdown",
   "source": [
    "## Isolation Forest\n",
    "Isolation Forest is an unsupervised decision tree algorithm that is used to find subsampling. Invented by **Monash University** and **Nan Jing University**. This algorithm is extremely powerful in high dimensional data.<br>\n",
    "[Originated here](https://ieeexplore.ieee.org/document/4781136)\n",
    "[Paper from Nan Jing University](https://cs.nju.edu.cn/zhouzh/zhouzh.files/publication/icdm08b.pdf)\n",
    "\n",
    "This algorithm will output the prediction value of each data, if the result is -1, it means that the data is an anomaly data. If it is 1, then the data is not an anomaly data."
   ],
   "metadata": {
    "collapsed": false
   }
  },
  {
   "cell_type": "code",
   "execution_count": 37,
   "outputs": [
    {
     "data": {
      "text/plain": "array([-1, -1,  1, ...,  1,  1, -1])"
     },
     "execution_count": 37,
     "metadata": {},
     "output_type": "execute_result"
    }
   ],
   "source": [
    "from sklearn.ensemble import IsolationForest\n",
    "clf = IsolationForest(max_samples=100, random_state=1, contamination='auto')\n",
    "predictions = clf.fit_predict(random_data)\n",
    "predictions\n"
   ],
   "metadata": {
    "collapsed": false
   }
  },
  {
   "cell_type": "markdown",
   "source": [
    "## Robust Random Cut Forest\n",
    "Robust Random Cut Forest is an unsupervised algorithm used by amazon to detect anomaly data. It uses Association-based Anomaly Criterion to identify which data is an anomaly data, the higher the criterion, the higher probability that the data is an anomaly data. <br>\n",
    "\n",
    "Please note that the definition of 'high' and 'low' depends on the application of the algorithm.<br>\n",
    "\n",
    "[The Paper](http://proceedings.mlr.press/v48/guha16.pdf)<br>\n",
    "[Explaination](https://www.youtube.com/watch?v=yx1vf3uapX8) <br>\n",
    "\n",
    "The biggest advantage of the algorithm is that it can deal with data that are with a very high dimensions, it can also deal with live-streaming data (with integrated AWS kinesis Analytics), and offline data.<br>\n",
    "\n",
    "The complete code example can be found [here](https://github.com/aws/amazon-sagemaker-examples/blob/main/introduction_to_amazon_algorithms/random_cut_forest/random_cut_forest.ipynb)\n"
   ],
   "metadata": {
    "collapsed": false
   }
  },
  {
   "cell_type": "code",
   "execution_count": null,
   "outputs": [],
   "source": [],
   "metadata": {
    "collapsed": false
   }
  }
 ],
 "metadata": {
  "kernelspec": {
   "display_name": "Python 3",
   "language": "python",
   "name": "python3"
  },
  "language_info": {
   "codemirror_mode": {
    "name": "ipython",
    "version": 2
   },
   "file_extension": ".py",
   "mimetype": "text/x-python",
   "name": "python",
   "nbconvert_exporter": "python",
   "pygments_lexer": "ipython2",
   "version": "2.7.6"
  }
 },
 "nbformat": 4,
 "nbformat_minor": 0
}
